{
 "cells": [
  {
   "cell_type": "code",
   "execution_count": null,
   "metadata": {},
   "outputs": [],
   "source": [
    "# x_pos = [1597, 766, 530, 839, 1269, 530, 530, 1597, 1597, 944, 1315]\n",
    "# y_pos = [1958, 1690, 2040, 2244, 1744, 1690, 2302, 2302, 1690, 2083, 1925]\n",
    "\n",
    "# true_pos = zip(x_pos, y_pos)\n",
    "\n",
    "# num_data_points = data[\"position\"].value_counts().div(3).to_dict()\n",
    "# distances_to_tags = []\n",
    "\n",
    "# for i in sorted(data[\"position\"].unique()):\n",
    "#     tag_1 = data.query(f\"position == {i} & tag == 1\")\n",
    "#     tag_2 = data.query(f\"position == {i} & tag == 2\")\n",
    "#     tag_3 = data.query(f\"position == {i} & tag == 3\")\n",
    "\n",
    "#     x_avg_calc = int((tag_1.x.mean() + tag_2.x.mean() + tag_3.x.mean()) / 3)\n",
    "#     y_avg_calc = int((tag_1.y.mean() + tag_2.y.mean() + tag_3.y.mean()) / 3)\n",
    "\n",
    "#     x_avg_actual, y_avg_actual = next(true_pos)\n",
    "\n",
    "#     distance = (\n",
    "#         ((x_avg_calc - x_avg_actual) ** 2) + ((y_avg_calc - y_avg_actual) ** 2)\n",
    "#     ) ** 0.5\n",
    "\n",
    "#     distances_to_tags.append(distance)\n",
    "\n",
    "#     print(f\"Position {i}:\")\n",
    "#     print(\"Actual:\", (x_avg_actual, y_avg_actual))\n",
    "#     print(\"Calc:  \", (x_avg_calc, y_avg_calc))\n",
    "#     print(\"Distance:\", distance)\n",
    "#     print(\"Number of Data Points:\", num_data_points[i])\n",
    "#     print()\n",
    "\n",
    "# ax = plt.gca()\n",
    "# ax.scatter(distances_to_tags, num_data_points.values())\n",
    "# ax.title.set_text(\"Distances v. Number of Data Points\")\n",
    "# plt.show()"
   ]
  }
 ],
 "metadata": {
  "kernelspec": {
   "display_name": "Python 3",
   "language": "python",
   "name": "python3"
  },
  "language_info": {
   "codemirror_mode": {
    "name": "ipython",
    "version": 3
   },
   "file_extension": ".py",
   "mimetype": "text/x-python",
   "name": "python",
   "nbconvert_exporter": "python",
   "pygments_lexer": "ipython3",
   "version": "3.7.9"
  }
 },
 "nbformat": 4,
 "nbformat_minor": 4
}
