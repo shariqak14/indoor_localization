{
 "cells": [
  {
   "cell_type": "markdown",
   "metadata": {},
   "source": [
    "### Import the dependencies"
   ]
  },
  {
   "cell_type": "code",
   "execution_count": 1,
   "metadata": {},
   "outputs": [],
   "source": [
    "%load_ext lab_black\n",
    "\n",
    "# Common Imports\n",
    "import numpy as np\n",
    "import pandas as pd\n",
    "\n",
    "# Preprocessing\n",
    "from scipy.stats import norm\n",
    "\n",
    "# Assessing performance\n",
    "from sklearn.metrics import mean_squared_error\n",
    "\n",
    "# Regressors\n",
    "from sklearn.linear_model import LinearRegression\n",
    "from sklearn.svm import SVR\n",
    "\n",
    "# Fine Tuning\n",
    "from sklearn.model_selection import GridSearchCV\n",
    "\n",
    "# To plot pretty figures\n",
    "%matplotlib inline\n",
    "import matplotlib as mpl\n",
    "import matplotlib.pyplot as plt\n",
    "\n",
    "mpl.rc(\"axes\", labelsize=14)\n",
    "mpl.rc(\"xtick\", labelsize=12)\n",
    "mpl.rc(\"ytick\", labelsize=12)\n",
    "\n",
    "# Ignore useless warnings (see SciPy issue #5998)\n",
    "import warnings\n",
    "\n",
    "warnings.filterwarnings(action=\"ignore\", message=\"^internal gelsd\")\n",
    "warnings.filterwarnings(action=\"ignore\", category=DeprecationWarning)\n",
    "warnings.filterwarnings(action=\"ignore\", category=FutureWarning)\n",
    "warnings.filterwarnings(action=\"ignore\", category=UserWarning)\n",
    "\n",
    "# To make this notebook's output identical at every run\n",
    "np.random.seed(42)"
   ]
  },
  {
   "cell_type": "markdown",
   "metadata": {},
   "source": [
    "### Inspect the data"
   ]
  },
  {
   "cell_type": "code",
   "execution_count": 2,
   "metadata": {},
   "outputs": [
    {
     "data": {
      "text/html": [
       "<div>\n",
       "<style scoped>\n",
       "    .dataframe tbody tr th:only-of-type {\n",
       "        vertical-align: middle;\n",
       "    }\n",
       "\n",
       "    .dataframe tbody tr th {\n",
       "        vertical-align: top;\n",
       "    }\n",
       "\n",
       "    .dataframe thead th {\n",
       "        text-align: right;\n",
       "    }\n",
       "</style>\n",
       "<table border=\"1\" class=\"dataframe\">\n",
       "  <thead>\n",
       "    <tr style=\"text-align: right;\">\n",
       "      <th></th>\n",
       "      <th>tag</th>\n",
       "      <th>x</th>\n",
       "      <th>y</th>\n",
       "      <th>position</th>\n",
       "    </tr>\n",
       "  </thead>\n",
       "  <tbody>\n",
       "    <tr>\n",
       "      <th>0</th>\n",
       "      <td>1</td>\n",
       "      <td>1595</td>\n",
       "      <td>1916</td>\n",
       "      <td>1</td>\n",
       "    </tr>\n",
       "    <tr>\n",
       "      <th>1</th>\n",
       "      <td>2</td>\n",
       "      <td>1614</td>\n",
       "      <td>1989</td>\n",
       "      <td>1</td>\n",
       "    </tr>\n",
       "    <tr>\n",
       "      <th>2</th>\n",
       "      <td>3</td>\n",
       "      <td>1620</td>\n",
       "      <td>1971</td>\n",
       "      <td>1</td>\n",
       "    </tr>\n",
       "    <tr>\n",
       "      <th>3</th>\n",
       "      <td>1</td>\n",
       "      <td>1595</td>\n",
       "      <td>1915</td>\n",
       "      <td>1</td>\n",
       "    </tr>\n",
       "    <tr>\n",
       "      <th>4</th>\n",
       "      <td>2</td>\n",
       "      <td>1614</td>\n",
       "      <td>1988</td>\n",
       "      <td>1</td>\n",
       "    </tr>\n",
       "    <tr>\n",
       "      <th>...</th>\n",
       "      <td>...</td>\n",
       "      <td>...</td>\n",
       "      <td>...</td>\n",
       "      <td>...</td>\n",
       "    </tr>\n",
       "    <tr>\n",
       "      <th>27655</th>\n",
       "      <td>2</td>\n",
       "      <td>1315</td>\n",
       "      <td>1863</td>\n",
       "      <td>11</td>\n",
       "    </tr>\n",
       "    <tr>\n",
       "      <th>27656</th>\n",
       "      <td>3</td>\n",
       "      <td>1345</td>\n",
       "      <td>1886</td>\n",
       "      <td>11</td>\n",
       "    </tr>\n",
       "    <tr>\n",
       "      <th>27657</th>\n",
       "      <td>1</td>\n",
       "      <td>1313</td>\n",
       "      <td>1899</td>\n",
       "      <td>11</td>\n",
       "    </tr>\n",
       "    <tr>\n",
       "      <th>27658</th>\n",
       "      <td>2</td>\n",
       "      <td>1315</td>\n",
       "      <td>1861</td>\n",
       "      <td>11</td>\n",
       "    </tr>\n",
       "    <tr>\n",
       "      <th>27659</th>\n",
       "      <td>3</td>\n",
       "      <td>1346</td>\n",
       "      <td>1885</td>\n",
       "      <td>11</td>\n",
       "    </tr>\n",
       "  </tbody>\n",
       "</table>\n",
       "<p>27660 rows × 4 columns</p>\n",
       "</div>"
      ],
      "text/plain": [
       "       tag     x     y  position\n",
       "0        1  1595  1916         1\n",
       "1        2  1614  1989         1\n",
       "2        3  1620  1971         1\n",
       "3        1  1595  1915         1\n",
       "4        2  1614  1988         1\n",
       "...    ...   ...   ...       ...\n",
       "27655    2  1315  1863        11\n",
       "27656    3  1345  1886        11\n",
       "27657    1  1313  1899        11\n",
       "27658    2  1315  1861        11\n",
       "27659    3  1346  1885        11\n",
       "\n",
       "[27660 rows x 4 columns]"
      ]
     },
     "execution_count": 2,
     "metadata": {},
     "output_type": "execute_result"
    }
   ],
   "source": [
    "data = (\n",
    "    pd.read_csv(\"position_log_v2.csv\")\n",
    "    .query(\"marker != 8\")  # too many null values for tag 1\n",
    "    .query(\"marker % 2 == 0\")\n",
    "    .drop([\"z\", \"anchors\"], axis=1)\n",
    "    .reset_index(drop=True)\n",
    ")\n",
    "\n",
    "data[\"tag\"] = data[\"tag\"].replace(52630, 3)\n",
    "\n",
    "data[\"marker\"] = data[\"marker\"].map(\n",
    "    {j: i + 1 for i, j in enumerate(data.marker.unique())}\n",
    ")\n",
    "\n",
    "data.columns = [\n",
    "    \"position\",\n",
    "    \"time\",\n",
    "    \"tag\",\n",
    "    \"x\",\n",
    "    \"y\",\n",
    "    \"anchor_1\",\n",
    "    \"anchor_2\",\n",
    "    \"anchor_3\",\n",
    "    \"anchor_4\",\n",
    "    \"anchor_5\",\n",
    "]\n",
    "\n",
    "data = data.loc[:, [\"tag\", \"x\", \"y\", \"position\"]]\n",
    "data"
   ]
  },
  {
   "cell_type": "markdown",
   "metadata": {},
   "source": [
    "#### Look at the noise at each of the different locations"
   ]
  },
  {
   "cell_type": "code",
   "execution_count": null,
   "metadata": {},
   "outputs": [],
   "source": [
    "ax = plt.gca()\n",
    "ax.scatter(data.query(\"tag == 1\").x, data.query(\"tag == 1\").y, label=\"tag_1\")\n",
    "ax.scatter(data.query(\"tag == 2\").x, data.query(\"tag == 2\").y, label=\"tag_2\")\n",
    "ax.scatter(data.query(\"tag == 3\").x, data.query(\"tag == 3\").y, label=\"tag_3\")\n",
    "\n",
    "plt.legend(loc=\"best\")\n",
    "plt.tight_layout()\n",
    "plt.show()"
   ]
  },
  {
   "cell_type": "markdown",
   "metadata": {},
   "source": [
    "#### Look at the noise in each tag at each of the different locations"
   ]
  },
  {
   "cell_type": "code",
   "execution_count": null,
   "metadata": {},
   "outputs": [],
   "source": [
    "for i in data[\"position\"].unique():\n",
    "    tag_1_x = data.query(f\"position == {i} & tag == 1\").x.reset_index(drop=True)\n",
    "    tag_2_x = data.query(f\"position == {i} & tag == 2\").x.reset_index(drop=True)\n",
    "    tag_3_x = data.query(f\"position == {i} & tag == 3\").x.reset_index(drop=True)\n",
    "\n",
    "    tag_1_y = data.query(f\"position == {i} & tag == 1\").y.reset_index(drop=True)\n",
    "    tag_2_y = data.query(f\"position == {i} & tag == 2\").y.reset_index(drop=True)\n",
    "    tag_3_y = data.query(f\"position == {i} & tag == 3\").y.reset_index(drop=True)\n",
    "\n",
    "    fig, axes = plt.subplots(nrows=1, ncols=2, figsize=(12, 4))\n",
    "\n",
    "    axes[0].plot(tag_1_x, label=\"tag_1\")\n",
    "    axes[0].plot(tag_2_x, label=\"tag_2\")\n",
    "    axes[0].plot(tag_3_x, label=\"tag_3\")\n",
    "    axes[0].legend(loc=\"lower right\")\n",
    "    axes[0].title.set_text(f\"position {i} - x\")\n",
    "\n",
    "    axes[1].plot(tag_1_y, label=\"tag_1\")\n",
    "    axes[1].plot(tag_2_y, label=\"tag_2\")\n",
    "    axes[1].plot(tag_3_y, label=\"tag_3\")\n",
    "    axes[1].legend(loc=\"lower right\")\n",
    "    axes[1].title.set_text(f\"position {i} - y\")\n",
    "\n",
    "    fig.tight_layout()\n",
    "    fig.show()"
   ]
  },
  {
   "cell_type": "markdown",
   "metadata": {},
   "source": [
    "#### Plot the histogram and the PDF for each tag and each position \n",
    "\n",
    "##### x coordinates"
   ]
  },
  {
   "cell_type": "code",
   "execution_count": null,
   "metadata": {},
   "outputs": [],
   "source": [
    "for i in sorted(data[\"position\"].unique()):\n",
    "    fig, axes = plt.subplots(nrows=1, ncols=3, figsize=(12, 4))\n",
    "\n",
    "    tag_1 = data.query(f\"position == {i} & tag == 1\").x\n",
    "    tag_2 = data.query(f\"position == {i} & tag == 2\").x\n",
    "    tag_3 = data.query(f\"position == {i} & tag == 3\").x\n",
    "\n",
    "    # Fit a normal distribution to the data:\n",
    "    mu_1, std_1 = norm.fit(tag_1)\n",
    "    mu_2, std_2 = norm.fit(tag_2)\n",
    "    mu_3, std_3 = norm.fit(tag_3)\n",
    "\n",
    "    # Plot the histogram.\n",
    "    axes[0].hist(tag_1, bins=25, density=True, alpha=0.6)\n",
    "    axes[1].hist(tag_2, bins=25, density=True, alpha=0.6, color=\"g\")\n",
    "    axes[2].hist(tag_3, bins=25, density=True, alpha=0.6, color=\"r\")\n",
    "\n",
    "    # Plot the PDF.\n",
    "    xmin, xmax = axes[0].get_xlim()\n",
    "    x = np.linspace(xmin, xmax, 100)\n",
    "    p = norm.pdf(x, mu_1, std_1)\n",
    "    axes[0].plot(x, p, \"k\", linewidth=2)\n",
    "    title = \"Fit results: mu = %.2f,  std = %.2f\" % (mu_1, std_1)\n",
    "    axes[0].title.set_text(title)\n",
    "\n",
    "    # Plot the PDF.\n",
    "    xmin, xmax = axes[1].get_xlim()\n",
    "    x = np.linspace(xmin, xmax, 100)\n",
    "    p = norm.pdf(x, mu_2, std_2)\n",
    "    axes[1].plot(x, p, \"k\", linewidth=2)\n",
    "    title = \"Fit results: mu = %.2f,  std = %.2f\" % (mu_2, std_2)\n",
    "    axes[1].title.set_text(title)\n",
    "\n",
    "    # Plot the PDF.\n",
    "    xmin, xmax = axes[2].get_xlim()\n",
    "    x = np.linspace(xmin, xmax, 100)\n",
    "    p = norm.pdf(x, mu_3, std_3)\n",
    "    axes[2].plot(x, p, \"k\", linewidth=2)\n",
    "    title = \"Fit results: mu = %.2f,  std = %.2f\" % (mu_3, std_3)\n",
    "    axes[2].title.set_text(title)\n",
    "\n",
    "    fig.tight_layout()\n",
    "    fig.show()\n",
    "\n",
    "    fig.savefig(f\"graphs/pos_{i}_x.png\", bbox_inches=\"tight\")"
   ]
  },
  {
   "cell_type": "markdown",
   "metadata": {},
   "source": [
    "##### y coordinates"
   ]
  },
  {
   "cell_type": "code",
   "execution_count": null,
   "metadata": {},
   "outputs": [],
   "source": [
    "for i in sorted(data[\"position\"].unique()):\n",
    "    fig, axes = plt.subplots(nrows=1, ncols=3, figsize=(12, 4))\n",
    "\n",
    "    tag_1 = data.query(f\"position == {i} & tag == 1\").y\n",
    "    tag_2 = data.query(f\"position == {i} & tag == 2\").y\n",
    "    tag_3 = data.query(f\"position == {i} & tag == 3\").y\n",
    "\n",
    "    # Fit a normal distribution to the data:\n",
    "    mu_1, std_1 = norm.fit(tag_1)\n",
    "    mu_2, std_2 = norm.fit(tag_2)\n",
    "    mu_3, std_3 = norm.fit(tag_3)\n",
    "\n",
    "    # Plot the histogram.\n",
    "    axes[0].hist(tag_1, bins=25, density=True, alpha=0.6)\n",
    "    axes[1].hist(tag_2, bins=25, density=True, alpha=0.6, color=\"g\")\n",
    "    axes[2].hist(tag_3, bins=25, density=True, alpha=0.6, color=\"r\")\n",
    "\n",
    "    # Plot the PDF.\n",
    "    xmin, xmax = axes[0].get_xlim()\n",
    "    x = np.linspace(xmin, xmax, 100)\n",
    "    p = norm.pdf(x, mu_1, std_1)\n",
    "    axes[0].plot(x, p, \"k\", linewidth=2)\n",
    "    title = \"Fit results: mu = %.2f,  std = %.2f\" % (mu_1, std_1)\n",
    "    axes[0].title.set_text(title)\n",
    "\n",
    "    # Plot the PDF.\n",
    "    xmin, xmax = axes[1].get_xlim()\n",
    "    x = np.linspace(xmin, xmax, 100)\n",
    "    p = norm.pdf(x, mu_2, std_2)\n",
    "    axes[1].plot(x, p, \"k\", linewidth=2)\n",
    "    title = \"Fit results: mu = %.2f,  std = %.2f\" % (mu_2, std_2)\n",
    "    axes[1].title.set_text(title)\n",
    "\n",
    "    # Plot the PDF.\n",
    "    xmin, xmax = axes[2].get_xlim()\n",
    "    x = np.linspace(xmin, xmax, 100)\n",
    "    p = norm.pdf(x, mu_3, std_3)\n",
    "    axes[2].plot(x, p, \"k\", linewidth=2)\n",
    "    title = \"Fit results: mu = %.2f,  std = %.2f\" % (mu_3, std_3)\n",
    "    axes[2].title.set_text(title)\n",
    "\n",
    "    fig.tight_layout()\n",
    "    fig.show()\n",
    "\n",
    "    fig.savefig(f\"graphs/pos_{i}_y.png\", bbox_inches=\"tight\")"
   ]
  },
  {
   "cell_type": "markdown",
   "metadata": {},
   "source": [
    "***\n",
    "## Approach 1: Model on all the data"
   ]
  },
  {
   "cell_type": "markdown",
   "metadata": {},
   "source": [
    "### Predict the x_coord"
   ]
  },
  {
   "cell_type": "code",
   "execution_count": 3,
   "metadata": {},
   "outputs": [
    {
     "data": {
      "text/html": [
       "<div>\n",
       "<style scoped>\n",
       "    .dataframe tbody tr th:only-of-type {\n",
       "        vertical-align: middle;\n",
       "    }\n",
       "\n",
       "    .dataframe tbody tr th {\n",
       "        vertical-align: top;\n",
       "    }\n",
       "\n",
       "    .dataframe thead th {\n",
       "        text-align: right;\n",
       "    }\n",
       "</style>\n",
       "<table border=\"1\" class=\"dataframe\">\n",
       "  <thead>\n",
       "    <tr style=\"text-align: right;\">\n",
       "      <th></th>\n",
       "      <th>x_tag_1</th>\n",
       "      <th>x_tag_2</th>\n",
       "      <th>x_tag_3</th>\n",
       "      <th>position</th>\n",
       "    </tr>\n",
       "  </thead>\n",
       "  <tbody>\n",
       "    <tr>\n",
       "      <th>0</th>\n",
       "      <td>1595</td>\n",
       "      <td>1614</td>\n",
       "      <td>1620</td>\n",
       "      <td>1597</td>\n",
       "    </tr>\n",
       "    <tr>\n",
       "      <th>1</th>\n",
       "      <td>1595</td>\n",
       "      <td>1614</td>\n",
       "      <td>1622</td>\n",
       "      <td>1597</td>\n",
       "    </tr>\n",
       "    <tr>\n",
       "      <th>2</th>\n",
       "      <td>1595</td>\n",
       "      <td>1615</td>\n",
       "      <td>1623</td>\n",
       "      <td>1597</td>\n",
       "    </tr>\n",
       "    <tr>\n",
       "      <th>3</th>\n",
       "      <td>1594</td>\n",
       "      <td>1614</td>\n",
       "      <td>1620</td>\n",
       "      <td>1597</td>\n",
       "    </tr>\n",
       "    <tr>\n",
       "      <th>4</th>\n",
       "      <td>1594</td>\n",
       "      <td>1615</td>\n",
       "      <td>1618</td>\n",
       "      <td>1597</td>\n",
       "    </tr>\n",
       "    <tr>\n",
       "      <th>...</th>\n",
       "      <td>...</td>\n",
       "      <td>...</td>\n",
       "      <td>...</td>\n",
       "      <td>...</td>\n",
       "    </tr>\n",
       "    <tr>\n",
       "      <th>6712</th>\n",
       "      <td>1554</td>\n",
       "      <td>1569</td>\n",
       "      <td>1599</td>\n",
       "      <td>1597</td>\n",
       "    </tr>\n",
       "    <tr>\n",
       "      <th>6713</th>\n",
       "      <td>1554</td>\n",
       "      <td>1562</td>\n",
       "      <td>1599</td>\n",
       "      <td>1597</td>\n",
       "    </tr>\n",
       "    <tr>\n",
       "      <th>6714</th>\n",
       "      <td>1554</td>\n",
       "      <td>1561</td>\n",
       "      <td>1599</td>\n",
       "      <td>1597</td>\n",
       "    </tr>\n",
       "    <tr>\n",
       "      <th>6715</th>\n",
       "      <td>1554</td>\n",
       "      <td>1557</td>\n",
       "      <td>1599</td>\n",
       "      <td>1597</td>\n",
       "    </tr>\n",
       "    <tr>\n",
       "      <th>6716</th>\n",
       "      <td>1552</td>\n",
       "      <td>1567</td>\n",
       "      <td>1598</td>\n",
       "      <td>1597</td>\n",
       "    </tr>\n",
       "  </tbody>\n",
       "</table>\n",
       "<p>6717 rows × 4 columns</p>\n",
       "</div>"
      ],
      "text/plain": [
       "      x_tag_1  x_tag_2  x_tag_3  position\n",
       "0        1595     1614     1620      1597\n",
       "1        1595     1614     1622      1597\n",
       "2        1595     1615     1623      1597\n",
       "3        1594     1614     1620      1597\n",
       "4        1594     1615     1618      1597\n",
       "...       ...      ...      ...       ...\n",
       "6712     1554     1569     1599      1597\n",
       "6713     1554     1562     1599      1597\n",
       "6714     1554     1561     1599      1597\n",
       "6715     1554     1557     1599      1597\n",
       "6716     1552     1567     1598      1597\n",
       "\n",
       "[6717 rows x 4 columns]"
      ]
     },
     "execution_count": 3,
     "metadata": {},
     "output_type": "execute_result"
    }
   ],
   "source": [
    "x_pos = [1597, 766, 530, 839, 1269, 530, 530, 1597, 1597, 944, 1315]\n",
    "x_pos_dict = dict(enumerate(x_pos, 1))\n",
    "\n",
    "data_tag_1 = data.query(\"tag == 1\").loc[:, [\"position\", \"x\"]].reset_index(drop=True)\n",
    "data_tag_2 = data.query(\"tag == 2\").loc[:, [\"x\"]].reset_index(drop=True)\n",
    "data_tag_3 = data.query(\"tag == 3\").loc[:, [\"x\"]].reset_index(drop=True)\n",
    "\n",
    "data_tag_1.columns = map(\"{}_tag_1\".format, data_tag_1.columns)\n",
    "data_tag_2.columns = map(\"{}_tag_2\".format, data_tag_2.columns)\n",
    "data_tag_3.columns = map(\"{}_tag_3\".format, data_tag_3.columns)\n",
    "\n",
    "data_mod_x = data_tag_1.join([data_tag_2, data_tag_3]).rename(\n",
    "    columns={\"position_tag_1\": \"position\"}\n",
    ")\n",
    "\n",
    "# take position 1-8 in the test set\n",
    "X_train_x = data_mod_x.query(\"position < 9\").drop(\"position\", axis=1)\n",
    "Y_train_x = data_mod_x.query(\"position < 9\")[\"position\"].copy().map(x_pos_dict)\n",
    "\n",
    "# take position 9-11 in the test set\n",
    "X_test_x = data_mod_x.query(\"position >= 9\").drop(\"position\", axis=1)\n",
    "Y_test_x = data_mod_x.query(\"position >= 9\")[\"position\"].copy().map(x_pos_dict)\n",
    "\n",
    "# display the training set\n",
    "X_train_x.join(Y_train_x)"
   ]
  },
  {
   "cell_type": "markdown",
   "metadata": {},
   "source": [
    "#### Baseline - Centroid Calculation\n",
    "\n",
    "Given the coordinates of the three vertices of a triangle ABC, the centroid coordinates $O$ are given by\n",
    "$O_x = \\frac{A_x + B_x + C_x}{3}$\n",
    "$O_y = \\frac{A_y + B_y + C_y}{3}$\n",
    "where $A_x$ and $A_y$ are the $x$ and $y$ coordinates of the point A etc."
   ]
  },
  {
   "cell_type": "code",
   "execution_count": 4,
   "metadata": {},
   "outputs": [
    {
     "data": {
      "text/plain": [
       "9.642822158320023"
      ]
     },
     "execution_count": 4,
     "metadata": {},
     "output_type": "execute_result"
    }
   ],
   "source": [
    "baseline_x = X_test_x.apply(\n",
    "    lambda x: (x[\"x_tag_1\"] + x[\"x_tag_2\"] + x[\"x_tag_3\"]) // 3, axis=1\n",
    ")\n",
    "\n",
    "rmse_baseline_x = mean_squared_error(Y_test_x, baseline_x, squared=False)\n",
    "rmse_baseline_x"
   ]
  },
  {
   "cell_type": "markdown",
   "metadata": {},
   "source": [
    "#### Regression Models"
   ]
  },
  {
   "cell_type": "code",
   "execution_count": 5,
   "metadata": {},
   "outputs": [
    {
     "data": {
      "text/plain": [
       "8.070188336006874"
      ]
     },
     "execution_count": 5,
     "metadata": {},
     "output_type": "execute_result"
    }
   ],
   "source": [
    "model_x_lr = LinearRegression()\n",
    "model_x_lr.fit(X_train_x, Y_train_x)\n",
    "y_pred = model_x_lr.predict(X_test_x)\n",
    "\n",
    "rmse_model_x = mean_squared_error(Y_test_x, y_pred, squared=False)\n",
    "rmse_model_x"
   ]
  },
  {
   "cell_type": "code",
   "execution_count": 6,
   "metadata": {},
   "outputs": [
    {
     "data": {
      "text/plain": [
       "9.227842077170752"
      ]
     },
     "execution_count": 6,
     "metadata": {},
     "output_type": "execute_result"
    }
   ],
   "source": [
    "model_x_svr = SVR()\n",
    "model_x_svr.fit(X_train_x, Y_train_x)\n",
    "y_pred = model_x_svr.predict(X_test_x)\n",
    "\n",
    "rmse_model_x = mean_squared_error(Y_test_x, y_pred, squared=False)\n",
    "rmse_model_x"
   ]
  },
  {
   "cell_type": "markdown",
   "metadata": {},
   "source": [
    "### Predict the y-coord"
   ]
  },
  {
   "cell_type": "code",
   "execution_count": 7,
   "metadata": {},
   "outputs": [
    {
     "data": {
      "text/html": [
       "<div>\n",
       "<style scoped>\n",
       "    .dataframe tbody tr th:only-of-type {\n",
       "        vertical-align: middle;\n",
       "    }\n",
       "\n",
       "    .dataframe tbody tr th {\n",
       "        vertical-align: top;\n",
       "    }\n",
       "\n",
       "    .dataframe thead th {\n",
       "        text-align: right;\n",
       "    }\n",
       "</style>\n",
       "<table border=\"1\" class=\"dataframe\">\n",
       "  <thead>\n",
       "    <tr style=\"text-align: right;\">\n",
       "      <th></th>\n",
       "      <th>y_tag_1</th>\n",
       "      <th>y_tag_2</th>\n",
       "      <th>y_tag_3</th>\n",
       "      <th>position</th>\n",
       "    </tr>\n",
       "  </thead>\n",
       "  <tbody>\n",
       "    <tr>\n",
       "      <th>0</th>\n",
       "      <td>1916</td>\n",
       "      <td>1989</td>\n",
       "      <td>1971</td>\n",
       "      <td>1958</td>\n",
       "    </tr>\n",
       "    <tr>\n",
       "      <th>1</th>\n",
       "      <td>1915</td>\n",
       "      <td>1988</td>\n",
       "      <td>1972</td>\n",
       "      <td>1958</td>\n",
       "    </tr>\n",
       "    <tr>\n",
       "      <th>2</th>\n",
       "      <td>1914</td>\n",
       "      <td>1997</td>\n",
       "      <td>1973</td>\n",
       "      <td>1958</td>\n",
       "    </tr>\n",
       "    <tr>\n",
       "      <th>3</th>\n",
       "      <td>1912</td>\n",
       "      <td>1994</td>\n",
       "      <td>1971</td>\n",
       "      <td>1958</td>\n",
       "    </tr>\n",
       "    <tr>\n",
       "      <th>4</th>\n",
       "      <td>1916</td>\n",
       "      <td>2002</td>\n",
       "      <td>1968</td>\n",
       "      <td>1958</td>\n",
       "    </tr>\n",
       "    <tr>\n",
       "      <th>...</th>\n",
       "      <td>...</td>\n",
       "      <td>...</td>\n",
       "      <td>...</td>\n",
       "      <td>...</td>\n",
       "    </tr>\n",
       "    <tr>\n",
       "      <th>6712</th>\n",
       "      <td>2314</td>\n",
       "      <td>2268</td>\n",
       "      <td>2295</td>\n",
       "      <td>2302</td>\n",
       "    </tr>\n",
       "    <tr>\n",
       "      <th>6713</th>\n",
       "      <td>2314</td>\n",
       "      <td>2275</td>\n",
       "      <td>2295</td>\n",
       "      <td>2302</td>\n",
       "    </tr>\n",
       "    <tr>\n",
       "      <th>6714</th>\n",
       "      <td>2315</td>\n",
       "      <td>2277</td>\n",
       "      <td>2296</td>\n",
       "      <td>2302</td>\n",
       "    </tr>\n",
       "    <tr>\n",
       "      <th>6715</th>\n",
       "      <td>2315</td>\n",
       "      <td>2280</td>\n",
       "      <td>2297</td>\n",
       "      <td>2302</td>\n",
       "    </tr>\n",
       "    <tr>\n",
       "      <th>6716</th>\n",
       "      <td>2316</td>\n",
       "      <td>2273</td>\n",
       "      <td>2299</td>\n",
       "      <td>2302</td>\n",
       "    </tr>\n",
       "  </tbody>\n",
       "</table>\n",
       "<p>6717 rows × 4 columns</p>\n",
       "</div>"
      ],
      "text/plain": [
       "      y_tag_1  y_tag_2  y_tag_3  position\n",
       "0        1916     1989     1971      1958\n",
       "1        1915     1988     1972      1958\n",
       "2        1914     1997     1973      1958\n",
       "3        1912     1994     1971      1958\n",
       "4        1916     2002     1968      1958\n",
       "...       ...      ...      ...       ...\n",
       "6712     2314     2268     2295      2302\n",
       "6713     2314     2275     2295      2302\n",
       "6714     2315     2277     2296      2302\n",
       "6715     2315     2280     2297      2302\n",
       "6716     2316     2273     2299      2302\n",
       "\n",
       "[6717 rows x 4 columns]"
      ]
     },
     "execution_count": 7,
     "metadata": {},
     "output_type": "execute_result"
    }
   ],
   "source": [
    "y_pos = [1958, 1690, 2040, 2244, 1744, 1690, 2302, 2302, 1690, 2083, 1925]\n",
    "y_pos_dict = dict(enumerate(y_pos, 1))\n",
    "\n",
    "data_tag_1 = data.query(\"tag == 1\").loc[:, [\"position\", \"y\"]].reset_index(drop=True)\n",
    "data_tag_2 = data.query(\"tag == 2\").loc[:, [\"y\"]].reset_index(drop=True)\n",
    "data_tag_3 = data.query(\"tag == 3\").loc[:, [\"y\"]].reset_index(drop=True)\n",
    "\n",
    "data_tag_1.columns = map(\"{}_tag_1\".format, data_tag_1.columns)\n",
    "data_tag_2.columns = map(\"{}_tag_2\".format, data_tag_2.columns)\n",
    "data_tag_3.columns = map(\"{}_tag_3\".format, data_tag_3.columns)\n",
    "\n",
    "data_mod_y = data_tag_1.join([data_tag_2, data_tag_3]).rename(\n",
    "    columns={\"position_tag_1\": \"position\"}\n",
    ")\n",
    "\n",
    "# take position 1-8 in the test set\n",
    "X_train_y = data_mod_y.query(\"position < 9\").drop(\"position\", axis=1)\n",
    "Y_train_y = data_mod_y.query(\"position < 9\")[\"position\"].copy().map(y_pos_dict)\n",
    "\n",
    "# take position 9-11 in the test set\n",
    "X_test_y = data_mod_y.query(\"position >= 9\").drop(\"position\", axis=1)\n",
    "Y_test_y = data_mod_y.query(\"position >= 9\")[\"position\"].copy().map(y_pos_dict)\n",
    "\n",
    "# display the training set\n",
    "X_train_y.join(Y_train_y)"
   ]
  },
  {
   "cell_type": "markdown",
   "metadata": {},
   "source": [
    "#### Baseline - Centroid Calculation\n",
    "\n",
    "Given the coordinates of the three vertices of a triangle ABC, the centroid coordinates $O$ are given by\n",
    "$O_x = \\frac{A_x + B_x + C_x}{3}$\n",
    "$O_y = \\frac{A_y + B_y + C_y}{3}$\n",
    "where $A_x$ and $A_y$ are the $x$ and $y$ coordinates of the point A etc."
   ]
  },
  {
   "cell_type": "code",
   "execution_count": 8,
   "metadata": {},
   "outputs": [
    {
     "data": {
      "text/plain": [
       "46.76006197520369"
      ]
     },
     "execution_count": 8,
     "metadata": {},
     "output_type": "execute_result"
    }
   ],
   "source": [
    "baseline_y = X_test_y.apply(\n",
    "    lambda x: (x[\"y_tag_1\"] + x[\"y_tag_2\"] + x[\"y_tag_3\"]) // 3, axis=1\n",
    ")\n",
    "\n",
    "rmse_baseline_y = mean_squared_error(Y_test_y, baseline_y, squared=False)\n",
    "rmse_baseline_y"
   ]
  },
  {
   "cell_type": "markdown",
   "metadata": {},
   "source": [
    "#### Regression Models"
   ]
  },
  {
   "cell_type": "code",
   "execution_count": 9,
   "metadata": {},
   "outputs": [
    {
     "data": {
      "text/plain": [
       "34.00687859729894"
      ]
     },
     "execution_count": 9,
     "metadata": {},
     "output_type": "execute_result"
    }
   ],
   "source": [
    "model_y_lr = LinearRegression()\n",
    "model_y_lr.fit(X_train_y, Y_train_y)\n",
    "y_pred = model_y_lr.predict(X_test_y)\n",
    "\n",
    "rmse_model_y = mean_squared_error(Y_test_y, y_pred, squared=False)\n",
    "rmse_model_y"
   ]
  },
  {
   "cell_type": "code",
   "execution_count": 10,
   "metadata": {},
   "outputs": [
    {
     "data": {
      "text/plain": [
       "30.541656797121224"
      ]
     },
     "execution_count": 10,
     "metadata": {},
     "output_type": "execute_result"
    }
   ],
   "source": [
    "model_y_svr = SVR()\n",
    "model_y_svr.fit(X_train_y, Y_train_y)\n",
    "y_pred = model_y_svr.predict(X_test_y)\n",
    "\n",
    "rmse_model_y = mean_squared_error(Y_test_y, y_pred, squared=False)\n",
    "rmse_model_y"
   ]
  },
  {
   "cell_type": "markdown",
   "metadata": {},
   "source": [
    "***"
   ]
  },
  {
   "cell_type": "markdown",
   "metadata": {},
   "source": [
    "## Approach 2: Model on constrained data"
   ]
  },
  {
   "cell_type": "markdown",
   "metadata": {},
   "source": [
    "#### For a given reading, compute the distance from tag 1 to tag 2, tag 2 to tag 3, and tag 1 to tag 3\n",
    "\n",
    "$d(tag_1,tag_2) = \\sqrt{(tag_{2_x} - tag_{1_x})^2 + (tag_{2_y} - tag_{1_y})^2}$\n",
    "\n",
    "$d(tag_2,tag_3) = \\sqrt{(tag_{3_x} - tag_{2_x})^2 + (tag_{3_y} - tag_{2_y})^2}$\n",
    "\n",
    "$d(tag_1,tag_3) = \\sqrt{(tag_{3_x} - tag_{1_x})^2 + (tag_{3_y} - tag_{1_y})^2}$"
   ]
  },
  {
   "cell_type": "code",
   "execution_count": 11,
   "metadata": {},
   "outputs": [],
   "source": [
    "data_tag_1 = data.query(\"tag == 1\").loc[:, [\"x\", \"y\"]].copy().reset_index(drop=True)\n",
    "data_tag_2 = data.query(\"tag == 2\").loc[:, [\"x\", \"y\"]].copy().reset_index(drop=True)\n",
    "data_tag_3 = data.query(\"tag == 3\").loc[:, [\"x\", \"y\"]].copy().reset_index(drop=True)"
   ]
  },
  {
   "cell_type": "code",
   "execution_count": 12,
   "metadata": {},
   "outputs": [
    {
     "data": {
      "text/html": [
       "<div>\n",
       "<style scoped>\n",
       "    .dataframe tbody tr th:only-of-type {\n",
       "        vertical-align: middle;\n",
       "    }\n",
       "\n",
       "    .dataframe tbody tr th {\n",
       "        vertical-align: top;\n",
       "    }\n",
       "\n",
       "    .dataframe thead th {\n",
       "        text-align: right;\n",
       "    }\n",
       "</style>\n",
       "<table border=\"1\" class=\"dataframe\">\n",
       "  <thead>\n",
       "    <tr style=\"text-align: right;\">\n",
       "      <th></th>\n",
       "      <th>tag_1_to_tag_2</th>\n",
       "      <th>tag_2_to_tag_3</th>\n",
       "      <th>tag_1_to_tag_3</th>\n",
       "    </tr>\n",
       "  </thead>\n",
       "  <tbody>\n",
       "    <tr>\n",
       "      <th>0</th>\n",
       "      <td>75.432089</td>\n",
       "      <td>18.973666</td>\n",
       "      <td>60.415230</td>\n",
       "    </tr>\n",
       "    <tr>\n",
       "      <th>1</th>\n",
       "      <td>75.432089</td>\n",
       "      <td>17.888544</td>\n",
       "      <td>63.071388</td>\n",
       "    </tr>\n",
       "    <tr>\n",
       "      <th>2</th>\n",
       "      <td>85.375641</td>\n",
       "      <td>25.298221</td>\n",
       "      <td>65.306967</td>\n",
       "    </tr>\n",
       "    <tr>\n",
       "      <th>3</th>\n",
       "      <td>84.403791</td>\n",
       "      <td>23.769729</td>\n",
       "      <td>64.474801</td>\n",
       "    </tr>\n",
       "    <tr>\n",
       "      <th>4</th>\n",
       "      <td>88.526832</td>\n",
       "      <td>34.132096</td>\n",
       "      <td>57.271284</td>\n",
       "    </tr>\n",
       "    <tr>\n",
       "      <th>...</th>\n",
       "      <td>...</td>\n",
       "      <td>...</td>\n",
       "      <td>...</td>\n",
       "    </tr>\n",
       "    <tr>\n",
       "      <th>9215</th>\n",
       "      <td>40.000000</td>\n",
       "      <td>39.824616</td>\n",
       "      <td>34.438351</td>\n",
       "    </tr>\n",
       "    <tr>\n",
       "      <th>9216</th>\n",
       "      <td>38.052595</td>\n",
       "      <td>35.805028</td>\n",
       "      <td>35.355339</td>\n",
       "    </tr>\n",
       "    <tr>\n",
       "      <th>9217</th>\n",
       "      <td>37.054015</td>\n",
       "      <td>34.409301</td>\n",
       "      <td>34.481879</td>\n",
       "    </tr>\n",
       "    <tr>\n",
       "      <th>9218</th>\n",
       "      <td>37.054015</td>\n",
       "      <td>37.802116</td>\n",
       "      <td>34.928498</td>\n",
       "    </tr>\n",
       "    <tr>\n",
       "      <th>9219</th>\n",
       "      <td>38.052595</td>\n",
       "      <td>39.204592</td>\n",
       "      <td>35.846897</td>\n",
       "    </tr>\n",
       "  </tbody>\n",
       "</table>\n",
       "<p>9220 rows × 3 columns</p>\n",
       "</div>"
      ],
      "text/plain": [
       "      tag_1_to_tag_2  tag_2_to_tag_3  tag_1_to_tag_3\n",
       "0          75.432089       18.973666       60.415230\n",
       "1          75.432089       17.888544       63.071388\n",
       "2          85.375641       25.298221       65.306967\n",
       "3          84.403791       23.769729       64.474801\n",
       "4          88.526832       34.132096       57.271284\n",
       "...              ...             ...             ...\n",
       "9215       40.000000       39.824616       34.438351\n",
       "9216       38.052595       35.805028       35.355339\n",
       "9217       37.054015       34.409301       34.481879\n",
       "9218       37.054015       37.802116       34.928498\n",
       "9219       38.052595       39.204592       35.846897\n",
       "\n",
       "[9220 rows x 3 columns]"
      ]
     },
     "execution_count": 12,
     "metadata": {},
     "output_type": "execute_result"
    }
   ],
   "source": [
    "AB = data_tag_1.sub(data_tag_2).pow(2).sum(axis=1).pow(0.5)\n",
    "BC = data_tag_2.sub(data_tag_3).pow(2).sum(axis=1).pow(0.5)\n",
    "AC = data_tag_1.sub(data_tag_3).pow(2).sum(axis=1).pow(0.5)\n",
    "\n",
    "distances = pd.DataFrame(\n",
    "    data=[AB, BC, AC], index=[\"tag_1_to_tag_2\", \"tag_2_to_tag_3\", \"tag_1_to_tag_3\"]\n",
    ").T\n",
    "\n",
    "distances"
   ]
  },
  {
   "cell_type": "code",
   "execution_count": 13,
   "metadata": {},
   "outputs": [],
   "source": [
    "true_mean = 21.59\n",
    "calc_mean_distances = distances.to_numpy().mean()\n",
    "std_distances = distances.to_numpy().std()"
   ]
  },
  {
   "cell_type": "code",
   "execution_count": 14,
   "metadata": {},
   "outputs": [
    {
     "data": {
      "text/plain": [
       "(51.965722316201536, 28.96962034612344)"
      ]
     },
     "execution_count": 14,
     "metadata": {},
     "output_type": "execute_result"
    }
   ],
   "source": [
    "calc_mean_distances, std_distances"
   ]
  },
  {
   "cell_type": "code",
   "execution_count": 15,
   "metadata": {},
   "outputs": [
    {
     "data": {
      "text/plain": [
       "(0, 50.55962034612344)"
      ]
     },
     "execution_count": 15,
     "metadata": {},
     "output_type": "execute_result"
    }
   ],
   "source": [
    "lower_bnd = true_mean - std_distances if true_mean - std_distances > 0 else 0\n",
    "upper_bnd = true_mean + std_distances\n",
    "\n",
    "lower_bnd, upper_bnd"
   ]
  },
  {
   "cell_type": "markdown",
   "metadata": {},
   "source": [
    "### Four Cases\n",
    "1. All three are constrained by the bound - keep all (best case)\n",
    "2. Only two are constrained by the bound\n",
    "3. Only one is constrained by the bound\n",
    "4. None of them are constrained by the bound - drop all (worst case)"
   ]
  },
  {
   "cell_type": "code",
   "execution_count": null,
   "metadata": {},
   "outputs": [],
   "source": [
    "bounded = (distances >= lower_bnd) & (distances <= upper_bnd)\n",
    "\n",
    "bounded_all_three = bounded[(bounded.sum(axis=1) == 3)]\n",
    "bounded_only_two = bounded[(bounded.sum(axis=1) == 2)]\n",
    "bounded_only_one = ~bounded[(bounded.sum(axis=1) == 1)]\n",
    "bounded_none = bounded[(bounded.sum(axis=1) == 0)]"
   ]
  },
  {
   "cell_type": "code",
   "execution_count": null,
   "metadata": {},
   "outputs": [],
   "source": [
    "# data = data.drop(bounded_none.index).reset_index(drop=True)\n",
    "# data"
   ]
  },
  {
   "cell_type": "code",
   "execution_count": null,
   "metadata": {},
   "outputs": [],
   "source": [
    "highest_distance = distances.idxmax(axis=1).map(\n",
    "    {\"tag_1_to_tag_2\": 1, \"tag_2_to_tag_3\": 2, \"tag_1_to_tag_3\": 3}\n",
    ")\n",
    "highest_distance"
   ]
  },
  {
   "cell_type": "code",
   "execution_count": null,
   "metadata": {},
   "outputs": [],
   "source": [
    "data_pre = data.copy()\n",
    "\n",
    "for (indx1, row1), (indx2, row2), (indx3, row3) in zip(\n",
    "    data_pre[:-2].iterrows(), data_pre[1:-1].iterrows(), data_pre[2:].iterrows()\n",
    "):\n",
    "\n",
    "    err_tag = highest_distance.iloc[indx1 // 3]\n",
    "\n",
    "    x_1, y_1 = row1[\"x\"], row1[\"y\"]\n",
    "    x_2, y_2 = row2[\"x\"], row2[\"y\"]\n",
    "    x_3, y_3 = row3[\"x\"], row3[\"y\"]\n",
    "\n",
    "    if err_tag == 1:\n",
    "        x_avg = (x_2 + x_3) // 2\n",
    "        y_avg = (y_2 + y_3) // 2\n",
    "\n",
    "        data_pre.loc[indx1, \"x\"] = x_avg\n",
    "        data_pre.loc[indx1, \"y\"] = y_avg\n",
    "\n",
    "    elif err_tag == 2:\n",
    "        x_avg = (x_1 + x_3) // 2\n",
    "        y_avg = (y_1 + y_3) // 2\n",
    "\n",
    "        data_pre.loc[indx2, \"x\"] = x_avg\n",
    "        data_pre.loc[indx2, \"y\"] = y_avg\n",
    "\n",
    "    else:\n",
    "        x_avg = (x_1 + x_2) // 2\n",
    "        y_avg = (y_1 + y_2) // 2\n",
    "\n",
    "        data_pre.loc[indx3, \"x\"] = x_avg\n",
    "        data_pre.loc[indx3, \"y\"] = y_avg\n",
    "\n",
    "data_pre"
   ]
  },
  {
   "cell_type": "code",
   "execution_count": null,
   "metadata": {},
   "outputs": [],
   "source": [
    "x_pos = [1597, 766, 530, 839, 1269, 530, 530, 1597, 1597, 944, 1315]\n",
    "y_pos = [1958, 1690, 2040, 2244, 1744, 1690, 2302, 2302, 1690, 2083, 1925]\n",
    "\n",
    "true_pos = zip(x_pos, y_pos)\n",
    "\n",
    "num_data_points = data_pre[\"position\"].value_counts().div(3).to_dict()\n",
    "distances_to_tags_1 = []\n",
    "\n",
    "for i in sorted(data_pre[\"position\"].unique()):\n",
    "    tag_1 = data_pre.query(f\"position == {i} & tag == 1\")\n",
    "    tag_2 = data_pre.query(f\"position == {i} & tag == 2\")\n",
    "    tag_3 = data_pre.query(f\"position == {i} & tag == 3\")\n",
    "\n",
    "    x_avg_calc = int((tag_1.x.mean() + tag_2.x.mean() + tag_3.x.mean()) / 3)\n",
    "    y_avg_calc = int((tag_1.y.mean() + tag_2.y.mean() + tag_3.y.mean()) / 3)\n",
    "\n",
    "    x_avg_actual, y_avg_actual = next(true_pos)\n",
    "\n",
    "    distance = (\n",
    "        ((x_avg_calc - x_avg_actual) ** 2) + ((y_avg_calc - y_avg_actual) ** 2)\n",
    "    ) ** 0.5\n",
    "\n",
    "    distances_to_tags_1.append(distance)\n",
    "\n",
    "    print(f\"Position {i}:\")\n",
    "    print(\"Actual:\", (x_avg_actual, y_avg_actual))\n",
    "    print(\"Calc:  \", (x_avg_calc, y_avg_calc))\n",
    "    print(\"Distance:\", distance)\n",
    "    print(\"Number of Data Points:\", num_data_points[i])\n",
    "    print()\n",
    "\n",
    "ax = plt.gca()\n",
    "ax.scatter(distances_to_tags_1, num_data_points.values())\n",
    "ax.title.set_text(\"Distances v. Number of Data Points\")\n",
    "plt.show()"
   ]
  },
  {
   "cell_type": "code",
   "execution_count": null,
   "metadata": {},
   "outputs": [],
   "source": [
    "distances_to_tags"
   ]
  },
  {
   "cell_type": "code",
   "execution_count": null,
   "metadata": {},
   "outputs": [],
   "source": [
    "distances_to_tags_1"
   ]
  }
 ],
 "metadata": {
  "kernelspec": {
   "display_name": "Python 3",
   "language": "python",
   "name": "python3"
  },
  "language_info": {
   "codemirror_mode": {
    "name": "ipython",
    "version": 3
   },
   "file_extension": ".py",
   "mimetype": "text/x-python",
   "name": "python",
   "nbconvert_exporter": "python",
   "pygments_lexer": "ipython3",
   "version": "3.7.9"
  }
 },
 "nbformat": 4,
 "nbformat_minor": 4
}
