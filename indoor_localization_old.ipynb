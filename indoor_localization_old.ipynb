{
 "cells": [
  {
   "cell_type": "markdown",
   "metadata": {},
   "source": [
    "## Noise Suppression using Multivariate Regression"
   ]
  },
  {
   "cell_type": "markdown",
   "metadata": {},
   "source": [
    "### Import the dependencies"
   ]
  },
  {
   "cell_type": "code",
   "execution_count": 1,
   "metadata": {},
   "outputs": [],
   "source": [
    "%load_ext lab_black\n",
    "\n",
    "# Common Imports\n",
    "import numpy as np\n",
    "import pandas as pd\n",
    "\n",
    "# Preprocessing\n",
    "from sklearn.preprocessing import StandardScaler, MinMaxScaler\n",
    "from sklearn.impute import SimpleImputer\n",
    "\n",
    "# Assessing performance\n",
    "from sklearn.metrics import accuracy_score\n",
    "from sklearn.model_selection import GridSearchCV, RepeatedStratifiedKFold\n",
    "\n",
    "# Classifiers\n",
    "from sklearn.neighbors import KNeighborsClassifier\n",
    "\n",
    "# Regressors\n",
    "from sklearn.linear_model import LinearRegression\n",
    "from sklearn.neighbors import KNeighborsRegressor\n",
    "from sklearn.tree import DecisionTreeRegressor\n",
    "\n",
    "# example of making a prediction with the direct multioutput regression model\n",
    "from sklearn.datasets import make_regression\n",
    "from sklearn.multioutput import MultiOutputRegressor\n",
    "from sklearn.svm import LinearSVR\n",
    "\n",
    "# To plot pretty figures\n",
    "%matplotlib inline\n",
    "import matplotlib as mpl\n",
    "import matplotlib.pyplot as plt\n",
    "\n",
    "mpl.rc(\"axes\", labelsize=14)\n",
    "mpl.rc(\"xtick\", labelsize=12)\n",
    "mpl.rc(\"ytick\", labelsize=12)\n",
    "\n",
    "# Ignore useless warnings (see SciPy issue #5998)\n",
    "import warnings\n",
    "\n",
    "warnings.filterwarnings(action=\"ignore\", message=\"^internal gelsd\")\n",
    "warnings.filterwarnings(\"ignore\")\n",
    "warnings.filterwarnings(action=\"ignore\", category=DeprecationWarning)\n",
    "warnings.filterwarnings(action=\"ignore\", category=FutureWarning)\n",
    "\n",
    "# To make this notebook's output identical at every run\n",
    "np.random.seed(42)"
   ]
  },
  {
   "cell_type": "markdown",
   "metadata": {},
   "source": [
    "### Preprocess the data"
   ]
  },
  {
   "cell_type": "code",
   "execution_count": 2,
   "metadata": {},
   "outputs": [
    {
     "data": {
      "text/html": [
       "<div>\n",
       "<style scoped>\n",
       "    .dataframe tbody tr th:only-of-type {\n",
       "        vertical-align: middle;\n",
       "    }\n",
       "\n",
       "    .dataframe tbody tr th {\n",
       "        vertical-align: top;\n",
       "    }\n",
       "\n",
       "    .dataframe thead th {\n",
       "        text-align: right;\n",
       "    }\n",
       "</style>\n",
       "<table border=\"1\" class=\"dataframe\">\n",
       "  <thead>\n",
       "    <tr style=\"text-align: right;\">\n",
       "      <th></th>\n",
       "      <th>position</th>\n",
       "      <th>tag</th>\n",
       "      <th>anchor_1</th>\n",
       "      <th>anchor_2</th>\n",
       "      <th>anchor_3</th>\n",
       "      <th>anchor_4</th>\n",
       "      <th>anchor_5</th>\n",
       "    </tr>\n",
       "  </thead>\n",
       "  <tbody>\n",
       "    <tr>\n",
       "      <th>0</th>\n",
       "      <td>0</td>\n",
       "      <td>1</td>\n",
       "      <td>940</td>\n",
       "      <td>185.0</td>\n",
       "      <td>453.0</td>\n",
       "      <td>515.0</td>\n",
       "      <td>560.0</td>\n",
       "    </tr>\n",
       "    <tr>\n",
       "      <th>1</th>\n",
       "      <td>0</td>\n",
       "      <td>2</td>\n",
       "      <td>855</td>\n",
       "      <td>185.0</td>\n",
       "      <td>505.0</td>\n",
       "      <td>484.0</td>\n",
       "      <td>581.0</td>\n",
       "    </tr>\n",
       "    <tr>\n",
       "      <th>2</th>\n",
       "      <td>0</td>\n",
       "      <td>3</td>\n",
       "      <td>939</td>\n",
       "      <td>191.0</td>\n",
       "      <td>483.0</td>\n",
       "      <td>527.0</td>\n",
       "      <td>587.0</td>\n",
       "    </tr>\n",
       "    <tr>\n",
       "      <th>3</th>\n",
       "      <td>0</td>\n",
       "      <td>1</td>\n",
       "      <td>939</td>\n",
       "      <td>186.0</td>\n",
       "      <td>454.0</td>\n",
       "      <td>510.0</td>\n",
       "      <td>555.0</td>\n",
       "    </tr>\n",
       "    <tr>\n",
       "      <th>4</th>\n",
       "      <td>0</td>\n",
       "      <td>2</td>\n",
       "      <td>852</td>\n",
       "      <td>186.0</td>\n",
       "      <td>503.0</td>\n",
       "      <td>487.0</td>\n",
       "      <td>583.0</td>\n",
       "    </tr>\n",
       "    <tr>\n",
       "      <th>...</th>\n",
       "      <td>...</td>\n",
       "      <td>...</td>\n",
       "      <td>...</td>\n",
       "      <td>...</td>\n",
       "      <td>...</td>\n",
       "      <td>...</td>\n",
       "      <td>...</td>\n",
       "    </tr>\n",
       "    <tr>\n",
       "      <th>6136</th>\n",
       "      <td>4</td>\n",
       "      <td>2</td>\n",
       "      <td>861</td>\n",
       "      <td>526.0</td>\n",
       "      <td>383.0</td>\n",
       "      <td>629.0</td>\n",
       "      <td>190.0</td>\n",
       "    </tr>\n",
       "    <tr>\n",
       "      <th>6137</th>\n",
       "      <td>4</td>\n",
       "      <td>3</td>\n",
       "      <td>843</td>\n",
       "      <td>581.0</td>\n",
       "      <td>392.0</td>\n",
       "      <td>688.0</td>\n",
       "      <td>212.0</td>\n",
       "    </tr>\n",
       "    <tr>\n",
       "      <th>6138</th>\n",
       "      <td>4</td>\n",
       "      <td>1</td>\n",
       "      <td>802</td>\n",
       "      <td>600.0</td>\n",
       "      <td>404.0</td>\n",
       "      <td>636.0</td>\n",
       "      <td>183.0</td>\n",
       "    </tr>\n",
       "    <tr>\n",
       "      <th>6139</th>\n",
       "      <td>4</td>\n",
       "      <td>2</td>\n",
       "      <td>832</td>\n",
       "      <td>526.0</td>\n",
       "      <td>377.0</td>\n",
       "      <td>625.0</td>\n",
       "      <td>189.0</td>\n",
       "    </tr>\n",
       "    <tr>\n",
       "      <th>6140</th>\n",
       "      <td>4</td>\n",
       "      <td>3</td>\n",
       "      <td>840</td>\n",
       "      <td>579.0</td>\n",
       "      <td>392.0</td>\n",
       "      <td>688.0</td>\n",
       "      <td>201.0</td>\n",
       "    </tr>\n",
       "  </tbody>\n",
       "</table>\n",
       "<p>6141 rows × 7 columns</p>\n",
       "</div>"
      ],
      "text/plain": [
       "      position  tag  anchor_1  anchor_2  anchor_3  anchor_4  anchor_5\n",
       "0            0    1       940     185.0     453.0     515.0     560.0\n",
       "1            0    2       855     185.0     505.0     484.0     581.0\n",
       "2            0    3       939     191.0     483.0     527.0     587.0\n",
       "3            0    1       939     186.0     454.0     510.0     555.0\n",
       "4            0    2       852     186.0     503.0     487.0     583.0\n",
       "...        ...  ...       ...       ...       ...       ...       ...\n",
       "6136         4    2       861     526.0     383.0     629.0     190.0\n",
       "6137         4    3       843     581.0     392.0     688.0     212.0\n",
       "6138         4    1       802     600.0     404.0     636.0     183.0\n",
       "6139         4    2       832     526.0     377.0     625.0     189.0\n",
       "6140         4    3       840     579.0     392.0     688.0     201.0\n",
       "\n",
       "[6141 rows x 7 columns]"
      ]
     },
     "execution_count": 2,
     "metadata": {},
     "output_type": "execute_result"
    }
   ],
   "source": [
    "data = (\n",
    "    pd.read_csv(\"position_logs.csv\")\n",
    "    .query(\"marker % 2 == 0 \")\n",
    "    .reset_index(drop=True\n",
    ")\n",
    "\n",
    "# data.marker = data.marker.map({j: i + 1 for i, j in enumerate(data.marker.unique())})\n",
    "\n",
    "data.columns = [\n",
    "    \"position\",\n",
    "    \"tag\",\n",
    "    \"anchor_1\",\n",
    "    \"anchor_2\",\n",
    "    \"anchor_3\",\n",
    "    \"anchor_4\",\n",
    "    \"anchor_5\",\n",
    "]\n",
    "\n",
    "data"
   ]
  },
  {
   "cell_type": "code",
   "execution_count": null,
   "metadata": {},
   "outputs": [],
   "source": []
  },
  {
   "cell_type": "code",
   "execution_count": null,
   "metadata": {},
   "outputs": [],
   "source": [
    "position = data.query(\"tag == 1\").loc[:, [\"position\"]].reset_index(drop=True)\n",
    "\n",
    "data_tag_1 = (\n",
    "    data.query(\"tag == 1\").drop([\"position\", \"tag\"], axis=1).reset_index(drop=True)\n",
    ")\n",
    "\n",
    "data_tag_2 = (\n",
    "    data.query(\"tag == 2\").drop([\"position\", \"tag\"], axis=1).reset_index(drop=True)\n",
    ")\n",
    "\n",
    "data_tag_3 = (\n",
    "    data.query(\"tag == 3\").drop([\"position\", \"tag\"], axis=1).reset_index(drop=True)\n",
    ")"
   ]
  },
  {
   "cell_type": "code",
   "execution_count": null,
   "metadata": {},
   "outputs": [],
   "source": [
    "data_tag_1.columns = map(\"{}_tag_1\".format, data_tag_1.columns)\n",
    "data_tag_2.columns = map(\"{}_tag_2\".format, data_tag_2.columns)\n",
    "data_tag_3.columns = map(\"{}_tag_3\".format, data_tag_3.columns)"
   ]
  },
  {
   "cell_type": "code",
   "execution_count": null,
   "metadata": {},
   "outputs": [],
   "source": [
    "data = position.join([data_tag_1, data_tag_2, data_tag_3])\n",
    "data"
   ]
  },
  {
   "cell_type": "code",
   "execution_count": null,
   "metadata": {},
   "outputs": [],
   "source": [
    "pos_uniq = data[\"position\"].unique()\n",
    "pos_coord = [(1597, 1958), (766, 1690), (530, 2040)]\n",
    "\n",
    "pos_to_coord = dict(zip(pos_uniq, pos_coord))\n",
    "\n",
    "for pos in pos_to_coord.keys():\n",
    "    x, y = pos_to_coord[pos]\n",
    "    data.loc[data[\"position\"] == pos, \"x\"] = x\n",
    "    data.loc[data[\"position\"] == pos, \"y\"] = y\n",
    "\n",
    "data"
   ]
  },
  {
   "cell_type": "code",
   "execution_count": null,
   "metadata": {},
   "outputs": [],
   "source": [
    "# Amount of readings per location\n",
    "data[\"position\"].value_counts()"
   ]
  },
  {
   "cell_type": "code",
   "execution_count": null,
   "metadata": {},
   "outputs": [],
   "source": [
    "data.hist(bins=5, figsize=(15, 15))\n",
    "plt.show()"
   ]
  },
  {
   "cell_type": "code",
   "execution_count": null,
   "metadata": {},
   "outputs": [],
   "source": [
    "X_train = data.drop([\"position\", \"x\", \"y\"], axis=1)"
   ]
  },
  {
   "cell_type": "code",
   "execution_count": null,
   "metadata": {},
   "outputs": [],
   "source": [
    "# Normalization\n",
    "min_max_scaler = MinMaxScaler()\n",
    "min_max_scaler.fit(X_train)\n",
    "min_max_scaled_features = min_max_scaler.transform(X_train)"
   ]
  },
  {
   "cell_type": "code",
   "execution_count": null,
   "metadata": {},
   "outputs": [],
   "source": [
    "X_train = pd.DataFrame(\n",
    "    min_max_scaled_features, index=X_train.index, columns=X_train.columns\n",
    ")\n",
    "X_train = position.join(X_train)\n",
    "X_train"
   ]
  },
  {
   "cell_type": "code",
   "execution_count": null,
   "metadata": {},
   "outputs": [],
   "source": [
    "X_train.query(\"position == 1\")"
   ]
  },
  {
   "cell_type": "code",
   "execution_count": null,
   "metadata": {},
   "outputs": [],
   "source": [
    "X_train.loc[X_train[\"position\"] == 1] = X_train.query(\"position == 1\").fillna(\n",
    "    X_train.query(\"position == 1\").mean()\n",
    ")"
   ]
  },
  {
   "cell_type": "code",
   "execution_count": null,
   "metadata": {},
   "outputs": [],
   "source": [
    "X_train.query(\"position == 1\")"
   ]
  },
  {
   "cell_type": "code",
   "execution_count": null,
   "metadata": {},
   "outputs": [],
   "source": [
    "X_train.query(\"position == 1\").isnull().any(axis=1).sum()"
   ]
  },
  {
   "cell_type": "code",
   "execution_count": null,
   "metadata": {},
   "outputs": [],
   "source": [
    "# all the rows in the 2nd position have a null value (anchor 5)\n",
    "X_train.query(\"position == 2\").isnull().any(axis=1)"
   ]
  },
  {
   "cell_type": "code",
   "execution_count": null,
   "metadata": {},
   "outputs": [],
   "source": [
    "X_train.query(\"position == 2\")"
   ]
  },
  {
   "cell_type": "code",
   "execution_count": null,
   "metadata": {},
   "outputs": [],
   "source": [
    "X_train.loc[X_train[\"position\"] == 2] = X_train.query(\"position == 2\").fillna(\n",
    "    X_train.query(\"position == 2\").mean()\n",
    ")"
   ]
  },
  {
   "cell_type": "code",
   "execution_count": null,
   "metadata": {},
   "outputs": [],
   "source": [
    "X_train.query(\"position == 2\")"
   ]
  },
  {
   "cell_type": "code",
   "execution_count": null,
   "metadata": {},
   "outputs": [],
   "source": [
    "X_train.query(\"position == 2\").isnull().any(axis=1).sum()"
   ]
  },
  {
   "cell_type": "code",
   "execution_count": null,
   "metadata": {},
   "outputs": [],
   "source": [
    "X_train.query(\"position == 3\")"
   ]
  },
  {
   "cell_type": "code",
   "execution_count": null,
   "metadata": {},
   "outputs": [],
   "source": [
    "X_train.loc[X_train[\"position\"] == 3] = X_train.query(\"position == 3\").fillna(\n",
    "    X_train.query(\"position == 3\").mean()\n",
    ")"
   ]
  },
  {
   "cell_type": "code",
   "execution_count": null,
   "metadata": {},
   "outputs": [],
   "source": [
    "X_train.query(\"position == 3\")"
   ]
  },
  {
   "cell_type": "code",
   "execution_count": null,
   "metadata": {},
   "outputs": [],
   "source": [
    "X_train.query(\"position == 3\").isnull().any(axis=1).sum()"
   ]
  },
  {
   "cell_type": "code",
   "execution_count": null,
   "metadata": {},
   "outputs": [],
   "source": [
    "# How many rows exist with one or more null values?\n",
    "X_train.isnull().any(axis=1).sum()"
   ]
  },
  {
   "cell_type": "code",
   "execution_count": null,
   "metadata": {},
   "outputs": [],
   "source": [
    "X_train"
   ]
  },
  {
   "cell_type": "code",
   "execution_count": null,
   "metadata": {},
   "outputs": [],
   "source": [
    "# Final X_train\n",
    "X_train = X_train.drop([\"position\"], axis=1)\n",
    "X_train"
   ]
  },
  {
   "cell_type": "code",
   "execution_count": null,
   "metadata": {},
   "outputs": [],
   "source": [
    "y_train = data[[\"x\", \"y\"]].copy()\n",
    "y_train"
   ]
  },
  {
   "cell_type": "markdown",
   "metadata": {},
   "source": [
    "### Train the models"
   ]
  },
  {
   "cell_type": "code",
   "execution_count": null,
   "metadata": {},
   "outputs": [],
   "source": [
    "model = LinearRegression()\n",
    "model.fit(X_train, y_train)\n",
    "\n",
    "row = [561, 387, 623, 192, 489, 556, 349, 598, 212, 458, 499, 392, 639, 269, 461]\n",
    "yhat = model.predict([row])\n",
    "\n",
    "print('Predicted: %s' % yhat[0])"
   ]
  },
  {
   "cell_type": "code",
   "execution_count": null,
   "metadata": {},
   "outputs": [],
   "source": [
    "model = KNeighborsRegressor()\n",
    "model.fit(X_train, y_train)\n",
    "\n",
    "row = [561, 387, 623, 192, 489, 556, 349, 598, 212, 458, 499, 392, 639, 269, 461]\n",
    "yhat = model.predict([row])\n",
    "\n",
    "print('Predicted: %s' % yhat[0])"
   ]
  },
  {
   "cell_type": "code",
   "execution_count": null,
   "metadata": {},
   "outputs": [],
   "source": [
    "model = DecisionTreeRegressor()\n",
    "model.fit(X_train, y_train)\n",
    "\n",
    "row = [561, 387, 623, 192, 489, 556, 349, 598, 212, 458, 499, 392, 639, 269, 461]\n",
    "yhat = model.predict([row])\n",
    "\n",
    "print('Predicted: %s' % yhat[0])"
   ]
  },
  {
   "cell_type": "code",
   "execution_count": null,
   "metadata": {},
   "outputs": [],
   "source": [
    "model = LinearSVR()\n",
    "wrapper = MultiOutputRegressor(model)\n",
    "wrapper.fit(X_train, y_train)\n",
    "\n",
    "row = [561, 387, 623, 192, 489, 556, 349, 598, 212, 458, 499, 392, 639, 269, 461]\n",
    "yhat = wrapper.predict([row])\n",
    "\n",
    "print('Predicted: %s' % yhat[0])"
   ]
  },
  {
   "cell_type": "code",
   "execution_count": null,
   "metadata": {},
   "outputs": [],
   "source": [
    "# from sklearn.decomposition import PCA\n",
    "\n",
    "# pca = PCA(n_components=2).fit(X_train)\n",
    "# pca_2d = pca.transform(X_train)\n",
    "\n",
    "# import pylab as pl\n",
    "# for i in range(0, pca_2d.shape[0]):\n",
    "#     if y_train[i] == 1:\n",
    "#         c1 = pl.scatter(pca_2d[i,0],pca_2d[i,1],c='r',marker='+')\n",
    "#     elif y_train[i] == 2:\n",
    "#         c2 = pl.scatter(pca_2d[i,0],pca_2d[i,1],c='g',marker='o')\n",
    "#     elif y_train[i] == 3:\n",
    "#         c3 = pl.scatter(pca_2d[i,0],pca_2d[i,1],c='b',marker='*')\n",
    "\n",
    "# pl.legend([c1, c2, c3], ['Position 1', 'Position 2', 'Position 3'])\n",
    "# pl.title('Dataset with 3 clusters and known outcomes')\n",
    "# pl.show()"
   ]
  },
  {
   "cell_type": "markdown",
   "metadata": {},
   "source": [
    "### Tune the hyperparameters"
   ]
  },
  {
   "cell_type": "code",
   "execution_count": null,
   "metadata": {},
   "outputs": [],
   "source": [
    "cv = RepeatedStratifiedKFold(n_splits=10, n_repeats=3, random_state=42)"
   ]
  },
  {
   "cell_type": "code",
   "execution_count": null,
   "metadata": {},
   "outputs": [],
   "source": [
    "n_neighbors = range(1, 21, 2)\n",
    "weights = ['uniform', 'distance']\n",
    "metric = ['euclidean', 'manhattan', 'minkowski']\n",
    "\n",
    "grid = dict(n_neighbors=n_neighbors, weights=weights, metric=metric)\n",
    "\n",
    "grid_search = GridSearchCV(KNeighborsClassifier(), param_grid=grid, n_jobs=-1, cv=cv, scoring='accuracy')\n",
    "grid_search.fit(X_train, y_train)\n",
    "\n",
    "print(\"Parameters: %s with an accuracy of %f\" % (grid_search.best_params_, grid_search.best_score_))"
   ]
  },
  {
   "cell_type": "code",
   "execution_count": null,
   "metadata": {},
   "outputs": [],
   "source": [
    "knn_clf = grid_search.best_estimator_"
   ]
  }
 ],
 "metadata": {
  "kernelspec": {
   "display_name": "Python 3",
   "language": "python",
   "name": "python3"
  },
  "language_info": {
   "codemirror_mode": {
    "name": "ipython",
    "version": 3
   },
   "file_extension": ".py",
   "mimetype": "text/x-python",
   "name": "python",
   "nbconvert_exporter": "python",
   "pygments_lexer": "ipython3",
   "version": "3.7.9"
  }
 },
 "nbformat": 4,
 "nbformat_minor": 4
}
